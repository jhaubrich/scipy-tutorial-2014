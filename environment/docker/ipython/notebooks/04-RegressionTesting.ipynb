{
 "metadata": {
  "name": ""
 },
 "nbformat": 3,
 "nbformat_minor": 0,
 "worksheets": [
  {
   "cells": [
    {
     "cell_type": "markdown",
     "metadata": {},
     "source": [
      "# Regression Testing\n",
      "\n",
      "We start to setup the [regression testing](http://reproducible-research.github.io/scipy-tutorial-2014/documents/RegressionTesting.html) infrastructure for our [data processing](http://reproducible-research.github.io/scipy-tutorial-2014/documents/DataSharing.html) pipeline by writting a test for the EyeSize class.\n",
      "\n",
      "Consider reading [Testing Your Code \u2014 The Hitchhiker's Guide to Python](http://docs.python-guide.org/en/latest/writing/tests/)"
     ]
    },
    {
     "cell_type": "markdown",
     "metadata": {},
     "source": [
      "## EyeSize test\n",
      "###Identify inputs and outputs\n",
      "\n",
      "Given a seed point, the EyeSize class provides an `estimate` method allowing to (1) segment the eye of the _Saltritus_ and (2) compute the estimated eye radius.\n",
      "\n",
      "<table>\n",
      "<tr>\n",
      "  <th>Inputs</th>\n",
      "  <td><i>Saltritus</i> image</td>\n",
      "  <td>seed point</td>\n",
      "</tr>\n",
      "<tr>\n",
      "  <th>Outputs</th>\n",
      "  <td>segmented eye</td>\n",
      "  <td>estimated eye radius</td>\n",
      "</tr>\n",
      "</table>"
     ]
    },
    {
     "cell_type": "markdown",
     "metadata": {},
     "source": [
      "### First draft\n",
      "\n",
      "Let's have a look at a first implementation of function named `eye_test` that simply:\n",
      "\n",
      "* download from figshare an input image (id `1066744`) and save it to disk as `TralitusSaltrator.jpg`\n",
      "* read the image with SimpleITK\n",
      "* set the estimator inputs\n",
      "* call `estimate` and get back the segmented eye and estimated radius"
     ]
    },
    {
     "cell_type": "code",
     "collapsed": false,
     "input": [
      "%cd\n",
      "%cd dexy/test"
     ],
     "language": "python",
     "metadata": {},
     "outputs": [
      {
       "output_type": "stream",
       "stream": "stdout",
       "text": [
        "/home/reproducible\n",
        "/home/reproducible/dexy/test\n"
       ]
      }
     ],
     "prompt_number": 106
    },
    {
     "cell_type": "code",
     "collapsed": false,
     "input": [
      "%more eyesize_0_basic_test.py\n",
      "%run eyesize_0_basic_test.py\n",
      "\n",
      "eyesize_basic_test()"
     ],
     "language": "python",
     "metadata": {},
     "outputs": [],
     "prompt_number": 107
    },
    {
     "cell_type": "markdown",
     "metadata": {},
     "source": [
      "#### Exercise\n",
      "\n",
      "1. Adapt the test to work with your figshare id."
     ]
    },
    {
     "cell_type": "markdown",
     "metadata": {},
     "source": [
      "### How can we improve ?\n",
      "\n",
      "#### 1. Verbose on failure\n",
      "\n",
      "Output information providing context, for example the current and expected value.\n",
      "\n",
      "Note that logging information when functions and tests work as expected is not recommended, it will _pollute_ the output and may prevent the developer from having his attention dran on real issue."
     ]
    },
    {
     "cell_type": "code",
     "collapsed": false,
     "input": [
      "%more eyesize_1_noisy_test.py\n",
      "%run eyesize_1_noisy_test.py\n",
      "\n",
      "eyesize_noisy_test()"
     ],
     "language": "python",
     "metadata": {},
     "outputs": [],
     "prompt_number": 108
    },
    {
     "cell_type": "markdown",
     "metadata": {},
     "source": [
      "#### 2. Clean plate\n",
      "\n",
      "It is always good to start from a clean environment by removing files previously generated.\n",
      "\n",
      "Instead of dumping the files along side the python scripts, let's organize files by having:\n",
      "\n",
      "* image downloaded into an `inputs` folder\n",
      "* segmented images written into an `outputs` folder"
     ]
    },
    {
     "cell_type": "code",
     "collapsed": false,
     "input": [
      "! rm TralitusSaltrator.jpg\n",
      "! rm SegmentedEye.png"
     ],
     "language": "python",
     "metadata": {},
     "outputs": [],
     "prompt_number": 109
    },
    {
     "cell_type": "code",
     "collapsed": false,
     "input": [
      "%more eyesize_2_cleanplate_test.py\n",
      "%run eyesize_2_cleanplate_test.py\n",
      "\n",
      "eyesize_cleanplate_test()"
     ],
     "language": "python",
     "metadata": {},
     "outputs": [],
     "prompt_number": 110
    },
    {
     "cell_type": "markdown",
     "metadata": {},
     "source": [
      "#### 3. Associate names\n",
      "\n",
      "Having a way to know the origin of your data or how they have been created can be very helpful. Especially when providing [sscce](http://sscce.org/)\n",
      "\n",
      "Doing this could be as simple as appending an `id` to an input name, and appending either a value or an experiment name to an output name."
     ]
    },
    {
     "cell_type": "code",
     "collapsed": false,
     "input": [
      "%more eyesize_3_withorigin_test.py\n",
      "%run eyesize_3_withorigin_test.py\n",
      "\n",
      "eyesize_withorigin_test()"
     ],
     "language": "python",
     "metadata": {},
     "outputs": [],
     "prompt_number": 112
    },
    {
     "cell_type": "code",
     "collapsed": false,
     "input": [
      "ls inputs"
     ],
     "language": "python",
     "metadata": {},
     "outputs": [
      {
       "output_type": "stream",
       "stream": "stdout",
       "text": [
        "TralitusSaltrator_figshare_1066744.jpg\r\n"
       ]
      }
     ],
     "prompt_number": 114
    },
    {
     "cell_type": "code",
     "collapsed": false,
     "input": [
      "ls outputs"
     ],
     "language": "python",
     "metadata": {},
     "outputs": [
      {
       "output_type": "stream",
       "stream": "stdout",
       "text": [
        "SegmentedEye_204_400.png\r\n"
       ]
      }
     ],
     "prompt_number": 115
    },
    {
     "cell_type": "markdown",
     "metadata": {},
     "source": [
      "#### 4. Automation\n",
      "\n",
      "Considering that the number of tests will grow, calling each function one by one would be a tedious process.\n",
      "To help us, a test driver could be used. \n",
      "\n",
      "Some major test drivers are:\n",
      "\n",
      "* [nose](http://nose.readthedocs.org/en/latest/)\n",
      "* [py.test](http://pytest.org/latest/)\n",
      "* [Unittest2](https://pypi.python.org/pypi/unittest2)\n"
     ]
    },
    {
     "cell_type": "markdown",
     "metadata": {},
     "source": [
      "#### 5. Nosetests\n",
      "\n",
      "Nosetests is a script that collects tests automatically."
     ]
    },
    {
     "cell_type": "code",
     "collapsed": false,
     "input": [
      "!nosetests --nocapture -v"
     ],
     "language": "python",
     "metadata": {},
     "outputs": [
      {
       "output_type": "stream",
       "stream": "stdout",
       "text": [
        "eyesize_0_basic_test.eyesize_basic_test ... "
       ]
      },
      {
       "output_type": "stream",
       "stream": "stdout",
       "text": [
        "ok\r\n",
        "eyesize_1_noisy_test.eyesize_noisy_test ... "
       ]
      },
      {
       "output_type": "stream",
       "stream": "stdout",
       "text": [
        "ok\r\n",
        "eyesize_2_cleanplate_test.eyesize_cleanplate_test ... "
       ]
      },
      {
       "output_type": "stream",
       "stream": "stdout",
       "text": [
        "ok\r\n",
        "eyesize_3_withorigin_test.eyesize_withorigin_test ... "
       ]
      },
      {
       "output_type": "stream",
       "stream": "stdout",
       "text": [
        "ok\r\n",
        "\r\n",
        "----------------------------------------------------------------------\r\n",
        "Ran 4 tests in 7.174s\r\n",
        "\r\n",
        "OK\r\n"
       ]
      }
     ],
     "prompt_number": 117
    },
    {
     "cell_type": "markdown",
     "metadata": {},
     "source": [
      "#### 6. Exercise\n",
      "\n",
      "Add a test for the `overlay_segmentation` function available in `eyesize.py`"
     ]
    }
   ],
   "metadata": {}
  }
 ]
}